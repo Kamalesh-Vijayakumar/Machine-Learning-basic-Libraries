{
  "nbformat": 4,
  "nbformat_minor": 0,
  "metadata": {
    "colab": {
      "provenance": [],
      "authorship_tag": "ABX9TyPsbloDHtxvQCOjPgOefR+a",
      "include_colab_link": true
    },
    "kernelspec": {
      "name": "python3",
      "display_name": "Python 3"
    },
    "language_info": {
      "name": "python"
    }
  },
  "cells": [
    {
      "cell_type": "markdown",
      "metadata": {
        "id": "view-in-github",
        "colab_type": "text"
      },
      "source": [
        "<a href=\"https://colab.research.google.com/github/kamaleshcoder/Machine-Learning-basic-Libraries/blob/main/Numpy_.ipynb\" target=\"_parent\"><img src=\"https://colab.research.google.com/assets/colab-badge.svg\" alt=\"Open In Colab\"/></a>"
      ]
    },
    {
      "cell_type": "markdown",
      "source": [
        "Numpy - Numperical Python\n",
        "\n",
        "\n",
        "\n",
        "advantages\n",
        "1. allows sevaeral numerical operations\n",
        "2. faster operations"
      ],
      "metadata": {
        "id": "9jaeVs3ckSml"
      }
    },
    {
      "cell_type": "code",
      "execution_count": null,
      "metadata": {
        "id": "7dX9So9MjyW6"
      },
      "outputs": [],
      "source": [
        "import numpy as np\n"
      ]
    },
    {
      "cell_type": "markdown",
      "source": [
        "list vs numpy time taken"
      ],
      "metadata": {
        "id": "TPLfRaPukyxA"
      }
    },
    {
      "cell_type": "code",
      "source": [
        "from time import process_time"
      ],
      "metadata": {
        "id": "MDR135Ypkvbq"
      },
      "execution_count": null,
      "outputs": []
    },
    {
      "cell_type": "markdown",
      "source": [
        "time taken by list"
      ],
      "metadata": {
        "id": "gEHOmrnyk-3j"
      }
    },
    {
      "cell_type": "code",
      "source": [
        "python_list = [i for i in range(1000)]\n",
        "\n",
        "start_time = process_time()\n",
        "\n",
        "python_list = [i+5 for i in python_list]\n",
        "\n",
        "end_time = process_time()\n",
        "\n",
        "print(end_time - start_time)"
      ],
      "metadata": {
        "colab": {
          "base_uri": "https://localhost:8080/"
        },
        "id": "UqwmDRt-lBRX",
        "outputId": "7606c00b-ed1b-4e2b-955c-64992506f3e9"
      },
      "execution_count": null,
      "outputs": [
        {
          "output_type": "stream",
          "name": "stdout",
          "text": [
            "0.0001441599999996157\n"
          ]
        }
      ]
    },
    {
      "cell_type": "code",
      "source": [
        "np_array = np.array([i for i in range(1000)])\n",
        "\n",
        "start_time = process_time()\n",
        "\n",
        "np_array += 5\n",
        "\n",
        "end_time = process_time()\n",
        "\n",
        "print(end_time - start_time)\n",
        "\n"
      ],
      "metadata": {
        "colab": {
          "base_uri": "https://localhost:8080/"
        },
        "id": "fWYJuPpLlnnx",
        "outputId": "5f595236-1524-41bd-c473-98bf71240da0"
      },
      "execution_count": null,
      "outputs": [
        {
          "output_type": "stream",
          "name": "stdout",
          "text": [
            "0.0005940600000000629\n"
          ]
        }
      ]
    },
    {
      "cell_type": "markdown",
      "source": [
        "numpy array"
      ],
      "metadata": {
        "id": "LBrLT2TMmN8h"
      }
    },
    {
      "cell_type": "code",
      "source": [
        "list1 = [1,2,3,4]\n",
        "print(list1)\n",
        "type(list1)"
      ],
      "metadata": {
        "colab": {
          "base_uri": "https://localhost:8080/"
        },
        "id": "d7NWYE30mH9A",
        "outputId": "9fca702b-3c77-490f-b5af-04807288b958"
      },
      "execution_count": null,
      "outputs": [
        {
          "output_type": "stream",
          "name": "stdout",
          "text": [
            "[1, 2, 3, 4]\n"
          ]
        },
        {
          "output_type": "execute_result",
          "data": {
            "text/plain": [
              "list"
            ]
          },
          "metadata": {},
          "execution_count": 9
        }
      ]
    },
    {
      "cell_type": "code",
      "source": [
        "np_array = np.array([1,2,3,4])\n",
        "print(np_array)\n",
        "type(np_array)"
      ],
      "metadata": {
        "colab": {
          "base_uri": "https://localhost:8080/"
        },
        "id": "jTmaXiFvmbq1",
        "outputId": "f9d41783-3f93-4d92-f0af-1366ec5cea40"
      },
      "execution_count": null,
      "outputs": [
        {
          "output_type": "stream",
          "name": "stdout",
          "text": [
            "[1 2 3 4]\n"
          ]
        },
        {
          "output_type": "execute_result",
          "data": {
            "text/plain": [
              "numpy.ndarray"
            ]
          },
          "metadata": {},
          "execution_count": 10
        }
      ]
    },
    {
      "cell_type": "code",
      "source": [
        "# 1d array\n",
        "a = np.array([1,2,3,4])\n",
        "print(a)"
      ],
      "metadata": {
        "colab": {
          "base_uri": "https://localhost:8080/"
        },
        "id": "sD73-wyxmpCg",
        "outputId": "2f5f3b3e-df6d-4de2-ac9a-3581860c4dca"
      },
      "execution_count": null,
      "outputs": [
        {
          "output_type": "stream",
          "name": "stdout",
          "text": [
            "[1 2 3 4]\n"
          ]
        }
      ]
    },
    {
      "cell_type": "code",
      "source": [
        "a.shape"
      ],
      "metadata": {
        "colab": {
          "base_uri": "https://localhost:8080/"
        },
        "id": "loMXEGcJm9SC",
        "outputId": "7b210265-4f1e-44a4-d9aa-47c61171f6dd"
      },
      "execution_count": null,
      "outputs": [
        {
          "output_type": "execute_result",
          "data": {
            "text/plain": [
              "(4,)"
            ]
          },
          "metadata": {},
          "execution_count": 14
        }
      ]
    },
    {
      "cell_type": "code",
      "source": [
        "b = np.array([(1,2,3,4),(5,6,7,8)])\n",
        "print(b)"
      ],
      "metadata": {
        "colab": {
          "base_uri": "https://localhost:8080/"
        },
        "id": "em0eboe0nIls",
        "outputId": "e401e1d1-7bb2-4f71-c121-1eacc5795ee5"
      },
      "execution_count": null,
      "outputs": [
        {
          "output_type": "stream",
          "name": "stdout",
          "text": [
            "[[1 2 3 4]\n",
            " [5 6 7 8]]\n"
          ]
        }
      ]
    },
    {
      "cell_type": "code",
      "source": [
        "b.shape"
      ],
      "metadata": {
        "colab": {
          "base_uri": "https://localhost:8080/"
        },
        "id": "2mI--jNjnVbk",
        "outputId": "9314cb1c-5031-4e5a-d2cf-24e438c7929f"
      },
      "execution_count": null,
      "outputs": [
        {
          "output_type": "execute_result",
          "data": {
            "text/plain": [
              "(2, 4)"
            ]
          },
          "metadata": {},
          "execution_count": 16
        }
      ]
    },
    {
      "cell_type": "markdown",
      "source": [
        "initial placeholders"
      ],
      "metadata": {
        "id": "E80qYyvbnb_H"
      }
    },
    {
      "cell_type": "code",
      "source": [
        "#zero array\n",
        "x = np.zeros((4,5),dtype=int)\n",
        "print(x)"
      ],
      "metadata": {
        "colab": {
          "base_uri": "https://localhost:8080/"
        },
        "id": "q5cp1yzAnY46",
        "outputId": "43079153-6f07-41a2-9711-a69950f1fd2b"
      },
      "execution_count": null,
      "outputs": [
        {
          "output_type": "stream",
          "name": "stdout",
          "text": [
            "[[0 0 0 0 0]\n",
            " [0 0 0 0 0]\n",
            " [0 0 0 0 0]\n",
            " [0 0 0 0 0]]\n"
          ]
        }
      ]
    },
    {
      "cell_type": "code",
      "source": [
        "# 1 array\n",
        "x = np.ones((4,5),dtype=int)\n",
        "print(x)"
      ],
      "metadata": {
        "colab": {
          "base_uri": "https://localhost:8080/"
        },
        "id": "UFai_2XUnrRL",
        "outputId": "7735a7eb-2a7a-493c-d2d7-14edbf5b1186"
      },
      "execution_count": null,
      "outputs": [
        {
          "output_type": "stream",
          "name": "stdout",
          "text": [
            "[[1 1 1 1 1]\n",
            " [1 1 1 1 1]\n",
            " [1 1 1 1 1]\n",
            " [1 1 1 1 1]]\n"
          ]
        }
      ]
    },
    {
      "cell_type": "code",
      "source": [
        "# particular values\n",
        "x = np.full((4,4),6)\n",
        "print(x)"
      ],
      "metadata": {
        "colab": {
          "base_uri": "https://localhost:8080/"
        },
        "id": "Gzzd5Muun4FK",
        "outputId": "92a54d93-89ad-47cb-e9c6-a26229c8b5cd"
      },
      "execution_count": null,
      "outputs": [
        {
          "output_type": "stream",
          "name": "stdout",
          "text": [
            "[[6 6 6 6]\n",
            " [6 6 6 6]\n",
            " [6 6 6 6]\n",
            " [6 6 6 6]]\n"
          ]
        }
      ]
    },
    {
      "cell_type": "code",
      "source": [
        "#identity matrix\n",
        "a = np.eye(10)\n",
        "print(a)"
      ],
      "metadata": {
        "colab": {
          "base_uri": "https://localhost:8080/"
        },
        "id": "2PZHi3SWoBus",
        "outputId": "25f75296-d23c-4706-9316-23e49e8cc9b4"
      },
      "execution_count": null,
      "outputs": [
        {
          "output_type": "stream",
          "name": "stdout",
          "text": [
            "[[1. 0. 0. 0. 0. 0. 0. 0. 0. 0.]\n",
            " [0. 1. 0. 0. 0. 0. 0. 0. 0. 0.]\n",
            " [0. 0. 1. 0. 0. 0. 0. 0. 0. 0.]\n",
            " [0. 0. 0. 1. 0. 0. 0. 0. 0. 0.]\n",
            " [0. 0. 0. 0. 1. 0. 0. 0. 0. 0.]\n",
            " [0. 0. 0. 0. 0. 1. 0. 0. 0. 0.]\n",
            " [0. 0. 0. 0. 0. 0. 1. 0. 0. 0.]\n",
            " [0. 0. 0. 0. 0. 0. 0. 1. 0. 0.]\n",
            " [0. 0. 0. 0. 0. 0. 0. 0. 1. 0.]\n",
            " [0. 0. 0. 0. 0. 0. 0. 0. 0. 1.]]\n"
          ]
        }
      ]
    },
    {
      "cell_type": "code",
      "source": [
        "#random values\n",
        "\n",
        "b = np.random.randint(10,100,(3,4))\n",
        "print(b)"
      ],
      "metadata": {
        "colab": {
          "base_uri": "https://localhost:8080/"
        },
        "id": "QqmfjYvNoRY-",
        "outputId": "ba8d53c4-1061-4ec4-fe13-f6de19defe29"
      },
      "execution_count": null,
      "outputs": [
        {
          "output_type": "stream",
          "name": "stdout",
          "text": [
            "[[66 89 64 11]\n",
            " [13 65 71 59]\n",
            " [46 61 19 60]]\n"
          ]
        }
      ]
    },
    {
      "cell_type": "markdown",
      "source": [
        "list to numpy"
      ],
      "metadata": {
        "id": "UvAc_76xoyw8"
      }
    },
    {
      "cell_type": "code",
      "source": [
        "list2 = [10,20,30,40,50]\n",
        "\n",
        "np_array = np.asarray(list2)\n",
        "\n",
        "print(np_array)"
      ],
      "metadata": {
        "colab": {
          "base_uri": "https://localhost:8080/"
        },
        "id": "fLrc0zmSo1Sd",
        "outputId": "1b348f7e-0013-4f94-c411-bb61015bc66d"
      },
      "execution_count": null,
      "outputs": [
        {
          "output_type": "stream",
          "name": "stdout",
          "text": [
            "[10 20 30 40 50]\n"
          ]
        }
      ]
    }
  ]
}